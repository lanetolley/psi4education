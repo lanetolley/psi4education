{
 "cells": [
  {
   "cell_type": "code",
   "execution_count": 1,
   "id": "4e232d45",
   "metadata": {},
   "outputs": [
    {
     "ename": "ModuleNotFoundError",
     "evalue": "No module named 'matplotlib'",
     "output_type": "error",
     "traceback": [
      "\u001b[0;31m---------------------------------------------------------------------------\u001b[0m",
      "\u001b[0;31mModuleNotFoundError\u001b[0m                       Traceback (most recent call last)",
      "Cell \u001b[0;32mIn[1], line 1\u001b[0m\n\u001b[0;32m----> 1\u001b[0m \u001b[43mget_ipython\u001b[49m\u001b[43m(\u001b[49m\u001b[43m)\u001b[49m\u001b[38;5;241;43m.\u001b[39;49m\u001b[43mrun_line_magic\u001b[49m\u001b[43m(\u001b[49m\u001b[38;5;124;43m'\u001b[39;49m\u001b[38;5;124;43mmatplotlib\u001b[39;49m\u001b[38;5;124;43m'\u001b[39;49m\u001b[43m,\u001b[49m\u001b[43m \u001b[49m\u001b[38;5;124;43m'\u001b[39;49m\u001b[38;5;124;43mwidget\u001b[39;49m\u001b[38;5;124;43m'\u001b[39;49m\u001b[43m)\u001b[49m\n\u001b[1;32m      2\u001b[0m \u001b[38;5;28;01mimport\u001b[39;00m \u001b[38;5;21;01mipympl\u001b[39;00m\n\u001b[1;32m      3\u001b[0m \u001b[38;5;28;01mimport\u001b[39;00m \u001b[38;5;21;01mipywidgets\u001b[39;00m \u001b[38;5;28;01mas\u001b[39;00m \u001b[38;5;21;01mwidgets\u001b[39;00m\n",
      "File \u001b[0;32m~/miniforge3/envs/work/lib/python3.9/site-packages/IPython/core/interactiveshell.py:2417\u001b[0m, in \u001b[0;36mInteractiveShell.run_line_magic\u001b[0;34m(self, magic_name, line, _stack_depth)\u001b[0m\n\u001b[1;32m   2415\u001b[0m     kwargs[\u001b[38;5;124m'\u001b[39m\u001b[38;5;124mlocal_ns\u001b[39m\u001b[38;5;124m'\u001b[39m] \u001b[38;5;241m=\u001b[39m \u001b[38;5;28mself\u001b[39m\u001b[38;5;241m.\u001b[39mget_local_scope(stack_depth)\n\u001b[1;32m   2416\u001b[0m \u001b[38;5;28;01mwith\u001b[39;00m \u001b[38;5;28mself\u001b[39m\u001b[38;5;241m.\u001b[39mbuiltin_trap:\n\u001b[0;32m-> 2417\u001b[0m     result \u001b[38;5;241m=\u001b[39m \u001b[43mfn\u001b[49m\u001b[43m(\u001b[49m\u001b[38;5;241;43m*\u001b[39;49m\u001b[43margs\u001b[49m\u001b[43m,\u001b[49m\u001b[43m \u001b[49m\u001b[38;5;241;43m*\u001b[39;49m\u001b[38;5;241;43m*\u001b[39;49m\u001b[43mkwargs\u001b[49m\u001b[43m)\u001b[49m\n\u001b[1;32m   2419\u001b[0m \u001b[38;5;66;03m# The code below prevents the output from being displayed\u001b[39;00m\n\u001b[1;32m   2420\u001b[0m \u001b[38;5;66;03m# when using magics with decodator @output_can_be_silenced\u001b[39;00m\n\u001b[1;32m   2421\u001b[0m \u001b[38;5;66;03m# when the last Python token in the expression is a ';'.\u001b[39;00m\n\u001b[1;32m   2422\u001b[0m \u001b[38;5;28;01mif\u001b[39;00m \u001b[38;5;28mgetattr\u001b[39m(fn, magic\u001b[38;5;241m.\u001b[39mMAGIC_OUTPUT_CAN_BE_SILENCED, \u001b[38;5;28;01mFalse\u001b[39;00m):\n",
      "File \u001b[0;32m~/miniforge3/envs/work/lib/python3.9/site-packages/IPython/core/magics/pylab.py:99\u001b[0m, in \u001b[0;36mPylabMagics.matplotlib\u001b[0;34m(self, line)\u001b[0m\n\u001b[1;32m     97\u001b[0m     \u001b[38;5;28mprint\u001b[39m(\u001b[38;5;124m\"\u001b[39m\u001b[38;5;124mAvailable matplotlib backends: \u001b[39m\u001b[38;5;132;01m%s\u001b[39;00m\u001b[38;5;124m\"\u001b[39m \u001b[38;5;241m%\u001b[39m backends_list)\n\u001b[1;32m     98\u001b[0m \u001b[38;5;28;01melse\u001b[39;00m:\n\u001b[0;32m---> 99\u001b[0m     gui, backend \u001b[38;5;241m=\u001b[39m \u001b[38;5;28;43mself\u001b[39;49m\u001b[38;5;241;43m.\u001b[39;49m\u001b[43mshell\u001b[49m\u001b[38;5;241;43m.\u001b[39;49m\u001b[43menable_matplotlib\u001b[49m\u001b[43m(\u001b[49m\u001b[43margs\u001b[49m\u001b[38;5;241;43m.\u001b[39;49m\u001b[43mgui\u001b[49m\u001b[38;5;241;43m.\u001b[39;49m\u001b[43mlower\u001b[49m\u001b[43m(\u001b[49m\u001b[43m)\u001b[49m\u001b[43m \u001b[49m\u001b[38;5;28;43;01mif\u001b[39;49;00m\u001b[43m \u001b[49m\u001b[38;5;28;43misinstance\u001b[39;49m\u001b[43m(\u001b[49m\u001b[43margs\u001b[49m\u001b[38;5;241;43m.\u001b[39;49m\u001b[43mgui\u001b[49m\u001b[43m,\u001b[49m\u001b[43m \u001b[49m\u001b[38;5;28;43mstr\u001b[39;49m\u001b[43m)\u001b[49m\u001b[43m \u001b[49m\u001b[38;5;28;43;01melse\u001b[39;49;00m\u001b[43m \u001b[49m\u001b[43margs\u001b[49m\u001b[38;5;241;43m.\u001b[39;49m\u001b[43mgui\u001b[49m\u001b[43m)\u001b[49m\n\u001b[1;32m    100\u001b[0m     \u001b[38;5;28mself\u001b[39m\u001b[38;5;241m.\u001b[39m_show_matplotlib_backend(args\u001b[38;5;241m.\u001b[39mgui, backend)\n",
      "File \u001b[0;32m~/miniforge3/envs/work/lib/python3.9/site-packages/IPython/core/interactiveshell.py:3588\u001b[0m, in \u001b[0;36mInteractiveShell.enable_matplotlib\u001b[0;34m(self, gui)\u001b[0m\n\u001b[1;32m   3567\u001b[0m \u001b[38;5;28;01mdef\u001b[39;00m \u001b[38;5;21menable_matplotlib\u001b[39m(\u001b[38;5;28mself\u001b[39m, gui\u001b[38;5;241m=\u001b[39m\u001b[38;5;28;01mNone\u001b[39;00m):\n\u001b[1;32m   3568\u001b[0m \u001b[38;5;250m    \u001b[39m\u001b[38;5;124;03m\"\"\"Enable interactive matplotlib and inline figure support.\u001b[39;00m\n\u001b[1;32m   3569\u001b[0m \n\u001b[1;32m   3570\u001b[0m \u001b[38;5;124;03m    This takes the following steps:\u001b[39;00m\n\u001b[0;32m   (...)\u001b[0m\n\u001b[1;32m   3586\u001b[0m \u001b[38;5;124;03m        display figures inline.\u001b[39;00m\n\u001b[1;32m   3587\u001b[0m \u001b[38;5;124;03m    \"\"\"\u001b[39;00m\n\u001b[0;32m-> 3588\u001b[0m     \u001b[38;5;28;01mfrom\u001b[39;00m \u001b[38;5;21;01mmatplotlib_inline\u001b[39;00m\u001b[38;5;21;01m.\u001b[39;00m\u001b[38;5;21;01mbackend_inline\u001b[39;00m \u001b[38;5;28;01mimport\u001b[39;00m configure_inline_support\n\u001b[1;32m   3590\u001b[0m     \u001b[38;5;28;01mfrom\u001b[39;00m \u001b[38;5;21;01mIPython\u001b[39;00m\u001b[38;5;21;01m.\u001b[39;00m\u001b[38;5;21;01mcore\u001b[39;00m \u001b[38;5;28;01mimport\u001b[39;00m pylabtools \u001b[38;5;28;01mas\u001b[39;00m pt\n\u001b[1;32m   3591\u001b[0m     gui, backend \u001b[38;5;241m=\u001b[39m pt\u001b[38;5;241m.\u001b[39mfind_gui_and_backend(gui, \u001b[38;5;28mself\u001b[39m\u001b[38;5;241m.\u001b[39mpylab_gui_select)\n",
      "File \u001b[0;32m~/miniforge3/envs/work/lib/python3.9/site-packages/matplotlib_inline/__init__.py:1\u001b[0m\n\u001b[0;32m----> 1\u001b[0m \u001b[38;5;28;01mfrom\u001b[39;00m \u001b[38;5;21;01m.\u001b[39;00m \u001b[38;5;28;01mimport\u001b[39;00m backend_inline, config  \u001b[38;5;66;03m# noqa\u001b[39;00m\n\u001b[1;32m      2\u001b[0m __version__ \u001b[38;5;241m=\u001b[39m \u001b[38;5;124m\"\u001b[39m\u001b[38;5;124m0.1.6\u001b[39m\u001b[38;5;124m\"\u001b[39m  \u001b[38;5;66;03m# noqa\u001b[39;00m\n",
      "File \u001b[0;32m~/miniforge3/envs/work/lib/python3.9/site-packages/matplotlib_inline/backend_inline.py:6\u001b[0m\n\u001b[1;32m      1\u001b[0m \u001b[38;5;124;03m\"\"\"A matplotlib backend for publishing figures via display_data\"\"\"\u001b[39;00m\n\u001b[1;32m      3\u001b[0m \u001b[38;5;66;03m# Copyright (c) IPython Development Team.\u001b[39;00m\n\u001b[1;32m      4\u001b[0m \u001b[38;5;66;03m# Distributed under the terms of the BSD 3-Clause License.\u001b[39;00m\n\u001b[0;32m----> 6\u001b[0m \u001b[38;5;28;01mimport\u001b[39;00m \u001b[38;5;21;01mmatplotlib\u001b[39;00m\n\u001b[1;32m      7\u001b[0m \u001b[38;5;28;01mfrom\u001b[39;00m \u001b[38;5;21;01mmatplotlib\u001b[39;00m \u001b[38;5;28;01mimport\u001b[39;00m colors\n\u001b[1;32m      8\u001b[0m \u001b[38;5;28;01mfrom\u001b[39;00m \u001b[38;5;21;01mmatplotlib\u001b[39;00m\u001b[38;5;21;01m.\u001b[39;00m\u001b[38;5;21;01mbackends\u001b[39;00m \u001b[38;5;28;01mimport\u001b[39;00m backend_agg\n",
      "\u001b[0;31mModuleNotFoundError\u001b[0m: No module named 'matplotlib'"
     ]
    }
   ],
   "source": [
    "%matplotlib widget\n",
    "import ipympl\n",
    "import ipywidgets as widgets\n",
    "import matplotlib.pyplot as plt\n",
    "import numpy as np\n",
    "from IPython.display import display\n",
    "from scipy.interpolate import InterpolatedUnivariateSpline\n",
    "from numpy import linalg as LA\n",
    "### Import libraries to be used throughout\n",
    "# basic psi4 library\n",
    "import psi4\n",
    "# numpy\n",
    "import numpy as np\n",
    "# scipy\n",
    "from scipy.interpolate import InterpolatedUnivariateSpline\n",
    "# linear algebra package from numpy\n",
    "from numpy import linalg as LA\n",
    "# time-dependent scf library from psi4 for computing excited states and transition dipole moments\n",
    "from psi4.driver.procrouting.response.scf_response import tdscf_excitations\n",
    "#from matplotlib import pyplot as plt"
   ]
  },
  {
   "cell_type": "code",
   "execution_count": 2,
   "id": "9ef4ab98",
   "metadata": {},
   "outputs": [],
   "source": [
    "# Create a slider widget and a widget to hold the plot.\n",
    "slider = widgets.FloatSlider(description = r'$g$',\n",
    "                            value = 0,\n",
    "                            min = 0,\n",
    "                            max = 5,  \n",
    "                            step = 1)\n",
    "# We can use HTML styles to control the appearance of the widget.\n",
    "plot_widget = widgets.Output(layout = {'width':'100%', 'border': '1px solid black'})"
   ]
  },
  {
   "cell_type": "code",
   "execution_count": 3,
   "id": "71e90107",
   "metadata": {},
   "outputs": [],
   "source": [
    "# function to plot\n",
    "def lp(amplitude, omega, r_val, g_spline, e_spline, tdm_spline):\n",
    "    H = np.zeros((3,3))\n",
    "    lp_vals = np.zeros_like(r_val)\n",
    "    for i in range(0, len(r_val)):\n",
    "        H[0,0] = g_spline(r_val[i])\n",
    "        H[1,1] = g_spline(r_val[i]) + omega\n",
    "        H[1,2] = amplitude * tdm_spline(r_val[i])\n",
    "        H[2,1] = amplitude * tdm_spline(r_val[i])\n",
    "        H[2,2] = e_spline(r_val[i])\n",
    "        vals, vecs = LA.eigh(H)\n",
    "        lp_vals[i] = vals[1]\n",
    "        \n",
    "    return lp_vals\n",
    "\n",
    "\n",
    "# function to plot\n",
    "def up(amplitude, omega, r_val, g_spline, e_spline, tdm_spline):\n",
    "    H = np.zeros((3,3))\n",
    "    up_vals = np.zeros_like(r_val)\n",
    "    for i in range(0, len(r_val)):\n",
    "        H[0,0] = g_spline(r_val[i])\n",
    "        H[1,1] = g_spline(r_val[i]) + omega\n",
    "        H[1,2] = amplitude * tdm_spline(r_val[i])\n",
    "        H[2,1] = amplitude * tdm_spline(r_val[i])\n",
    "        H[2,2] = e_spline(r_val[i])\n",
    "        vals, vecs = LA.eigh(H)\n",
    "        up_vals[i] = vals[2]\n",
    "        \n",
    "    return up_vals\n",
    "\n",
    "## create an array of x values\n",
    "#x = np.linspace(-np.pi, np.pi, 201)\n",
    "rs = np.array([1.3, 1.42, 1.54, \n",
    "               1.6600000000000001, 1.78, 1.9, \n",
    "               2.02, 2.14, 2.26, 2.38, 2.5, \n",
    "               2.62, 2.74, 2.8600000000000003, \n",
    "               2.98, 3.0999999999999996, 3.2199999999999998, \n",
    "               3.34, 3.46, 3.58])\n",
    "\n",
    "Eg = np.array([-200.34317863, -200.36733437, -200.3788335,  -200.38211913, -200.38005015,\n",
    " -200.37454644, -200.36693436, -200.35813969, -200.34880828, -200.33938762,\n",
    " -200.33018284, -200.32139619, -200.3131552,  -200.30553287, -200.29856231,\n",
    " -200.29224756, -200.28657217, -200.2815057,  -200.27700922, -200.27303916])\n",
    "\n",
    "Ee = np.array([-200.11946659, -200.15343212, -200.17455494, -200.18699014, -200.19340378,\n",
    " -200.19564856, -200.19506567, -200.19266834, -200.18922925, -200.18533058,\n",
    " -200.18141088, -200.17778616, -200.17467719, -200.17223017, -200.17053044,\n",
    " -200.16961006, -200.16945866, -200.17002824, -200.17124271, -200.17300921])\n",
    "\n",
    "mu = np.array([1.41026992, 1.46500868, 1.53226812, 1.60873137, 1.69113032, 1.77658259,\n",
    " 1.86280274, 1.9479899,  2.03067753, 2.10965627, 2.18375603, 2.25178818,\n",
    " 2.31244456, 2.36432877, 2.40606639, 2.43656128, 2.45526201, 2.46232396,\n",
    " 2.45859393, 2.44546058])\n",
    "\n",
    "lp_array = np.array([-200.18542568, -200.20965361, -200.22126158, -200.22471227, -200.2228985,\n",
    " -200.21780423, -200.2108843,  -200.20332124, -200.19614803, -200.18997948,\n",
    " -200.18480472, -200.18045717, -200.17688908, -200.17412067, -200.17217721,\n",
    " -200.17106054, -200.17074442, -200.17117242, -200.17226379, -200.17392288])\n",
    "\n",
    "up_array = np.array([-200.11919521, -200.15308855, -200.17410253, -200.18637267, -200.1925311,\n",
    " -200.19436644, -200.1930914,  -200.18946246, -200.18386517, -200.17671439,\n",
    " -200.16876468, -200.16070086, -200.15291899, -200.14561803, -200.13889122,\n",
    " -200.13277276, -200.12726208, -200.12233719, -200.11796381, -200.11410116])\n",
    "\n",
    "\n",
    "#a_spline = InterpolatedUnivariateSpline(rs, lp, k=3)\n",
    "#b_spline = InterpolatedUnivariateSpline(rs, up, k=3)\n",
    "Eg_spline = InterpolatedUnivariateSpline(rs, Eg, k=3)\n",
    "Ee_spline = InterpolatedUnivariateSpline(rs, Ee, k=3)\n",
    "mu_spline = InterpolatedUnivariateSpline(rs, mu, k=3)\n",
    "\n",
    "om = 4.3 / 27.211\n",
    "\n",
    "compute_lp = lp(0.003, om, rs, Eg_spline, Ee_spline, mu_spline)\n",
    "compute_up = up(0.003, om, rs, Eg_spline, Ee_spline, mu_spline)\n",
    "\n",
    "\n",
    "assert np.allclose(compute_lp, lp_array)\n",
    "assert np.allclose(compute_up, up_array)\n",
    "\n",
    "# function to plot\n",
    "def a_sin(amplitude, x, a_spline):\n",
    "    return amplitude * a_spline(x)\n",
    "\n",
    "def b_sin(amplitude, x, b_spline):\n",
    "    return amplitude * b_spline(x)"
   ]
  },
  {
   "cell_type": "code",
   "execution_count": 4,
   "id": "2c7c36c3",
   "metadata": {},
   "outputs": [],
   "source": [
    "\n",
    "# Turn off interactive mode before creating the \n",
    "# plot so it doesn't display too early.\n",
    "plt.ioff() # Turn off interactive mode\n",
    "fig, ax = plt.subplots(constrained_layout = True, figsize=[5,4]);\n",
    "plt.ion() # Turn on interactive mode\n",
    "\n",
    "#line1, = ax.plot(rs, a_sin(slider.value, rs, a_spline));\n",
    "#line2, = ax.plot(rs, b_sin(slider.value, rs, b_spline));\n",
    "line1, = ax.plot(rs, lp(0.00, om, rs, Eg_spline, Ee_spline, mu_spline));\n",
    "line2, = ax.plot(rs, up(0.00, om, rs, Eg_spline, Ee_spline, mu_spline));\n",
    "ax.set_ylabel(r'$A\\sin(x)$')\n",
    "ax.set_xlabel(r'$x$')\n",
    "\n",
    "# force the figure to display in the plot_widget\n",
    "with plot_widget:\n",
    "    display(fig.canvas)\n"
   ]
  },
  {
   "cell_type": "code",
   "execution_count": 5,
   "id": "d3003c6f",
   "metadata": {},
   "outputs": [],
   "source": [
    "# Create a function to re-draw the plot using the value of the slider. It is \n",
    "# faster to change the y-data but you can erase the plot and draw a new one.\n",
    "def update(value):\n",
    "    '''We can use `slider.value` or `value.new` to get the new slider value.'''\n",
    "    with plot_widget:\n",
    "        line1.set_ydata(lp(slider.value*0.001, om, rs, Eg_spline, Ee_spline, mu_spline))\n",
    "        line2.set_ydata(up(slider.value*0.001, om, rs, Eg_spline, Ee_spline, mu_spline))\n",
    "        fig.canvas.draw()\n",
    "\n",
    "# Set an observer to call `update` whenever the value changes.\n",
    "slider.observe(update)"
   ]
  },
  {
   "cell_type": "markdown",
   "id": "4f066448",
   "metadata": {},
   "source": [
    "Use the slider below to change the amplitude, $A$, of the sine function."
   ]
  },
  {
   "cell_type": "code",
   "execution_count": 6,
   "id": "dea4bcff",
   "metadata": {
    "tags": []
   },
   "outputs": [
    {
     "data": {
      "application/vnd.jupyter.widget-view+json": {
       "model_id": "dd1cd81e20aa49d3904c96e99d18e2d8",
       "version_major": 2,
       "version_minor": 0
      },
      "text/plain": [
       "VBox(children=(Output(layout=Layout(border='1px solid black', width='100%'), outputs=({'output_type': 'display…"
      ]
     },
     "metadata": {},
     "output_type": "display_data"
    }
   ],
   "source": [
    "widgets.VBox([plot_widget, slider])"
   ]
  },
  {
   "cell_type": "code",
   "execution_count": null,
   "id": "458f765d",
   "metadata": {},
   "outputs": [],
   "source": []
  }
 ],
 "metadata": {
  "kernelspec": {
   "display_name": "Python 3 (ipykernel)",
   "language": "python",
   "name": "python3"
  },
  "language_info": {
   "codemirror_mode": {
    "name": "ipython",
    "version": 3
   },
   "file_extension": ".py",
   "mimetype": "text/x-python",
   "name": "python",
   "nbconvert_exporter": "python",
   "pygments_lexer": "ipython3",
   "version": "3.9.16"
  },
  "toc-autonumbering": true,
  "toc-showcode": true,
  "toc-showmarkdowntxt": true
 },
 "nbformat": 4,
 "nbformat_minor": 5
}
